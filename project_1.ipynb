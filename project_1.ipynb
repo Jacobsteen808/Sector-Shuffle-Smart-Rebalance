{
 "cells": [
  {
   "cell_type": "code",
   "execution_count": 6,
   "id": "cc3a5d81-3900-409f-bd6b-9571761004f6",
   "metadata": {
    "tags": []
   },
   "outputs": [],
   "source": [
    "import pandas as pd\n",
    "import pathlib as Path\n",
    "import requests\n",
    "from dotenv import load_dotenv\n",
    "import os \n",
    "import pyfolio as py\n",
    "import yfinance as yf\n",
    "import alpaca_trade_api as tradeapi\n",
    "import numpy as np\n",
    "%matplotlib inline"
   ]
  },
  {
   "cell_type": "code",
   "execution_count": 4,
   "id": "5e0570b3-5ecf-4223-b631-b4320720030a",
   "metadata": {},
   "outputs": [
    {
     "data": {
      "text/plain": [
       "True"
      ]
     },
     "execution_count": 4,
     "metadata": {},
     "output_type": "execute_result"
    }
   ],
   "source": [
    "load_dotenv('env.txt')"
   ]
  },
  {
   "cell_type": "code",
   "execution_count": 10,
   "id": "ca4c0075-ce14-4b22-957b-65b62c836df7",
   "metadata": {
    "tags": []
   },
   "outputs": [],
   "source": [
    "alpaca_api_key = os.getenv(\"alpaca_api_key\")\n",
    "secret_alpaca_api_key = os.getenv(\"alpaca_api_key_secret\")\n",
    "api = tradeapi.REST(\n",
    "    alpaca_api_key,\n",
    "    secret_alpaca_api_key,\n",
    "    api_version = \"v2\"\n",
    ")"
   ]
  },
  {
   "cell_type": "code",
   "execution_count": null,
   "id": "97e005a6-b273-4915-be61-0c29c6eba1cb",
   "metadata": {},
   "outputs": [],
   "source": []
  }
 ],
 "metadata": {
  "kernelspec": {
   "display_name": "Python 3 (ipykernel)",
   "language": "python",
   "name": "python3"
  },
  "language_info": {
   "codemirror_mode": {
    "name": "ipython",
    "version": 3
   },
   "file_extension": ".py",
   "mimetype": "text/x-python",
   "name": "python",
   "nbconvert_exporter": "python",
   "pygments_lexer": "ipython3",
   "version": "3.11.5"
  }
 },
 "nbformat": 4,
 "nbformat_minor": 5
}
